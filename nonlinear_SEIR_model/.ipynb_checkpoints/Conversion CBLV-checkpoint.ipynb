{
 "cells": [
  {
   "cell_type": "code",
   "execution_count": 1,
   "id": "40b3480d",
   "metadata": {},
   "outputs": [
    {
     "name": "stderr",
     "output_type": "stream",
     "text": [
      "/home/ivati/anaconda3/envs/phylodeep-env/lib/python3.9/site-packages/ete3-3.1.2-py3.7.egg/ete3/evol/parser/codemlparser.py:221: SyntaxWarning: \"is\" with a literal. Did you mean \"==\"?\n",
      "/home/ivati/anaconda3/envs/phylodeep-env/lib/python3.9/site-packages/ete3-3.1.2-py3.7.egg/ete3/evol/parser/codemlparser.py:221: SyntaxWarning: \"is\" with a literal. Did you mean \"==\"?\n"
     ]
    }
   ],
   "source": [
    "# %load_ext snakeviz\n",
    "import time\n",
    "import numpy as np \n",
    "import pandas as pd\n",
    "from ete3 import Tree, TreeStyle\n",
    "\n",
    "# path = \"/home/ivati/Documents/data_TiPS1/\"\n",
    "path = \"/home/ivati/montages_reseau/home_maiage/\"\n",
    "MAX_SIZE = 901"
   ]
  },
  {
   "cell_type": "code",
   "execution_count": 3,
   "id": "5e885677",
   "metadata": {},
   "outputs": [
    {
     "name": "stdout",
     "output_type": "stream",
     "text": [
      "8\n",
      "16\n",
      "1621\n",
      "3242\n",
      "6484\n",
      "12968\n"
     ]
    }
   ],
   "source": [
    "for i in range(5, 25935):\n",
    "    if 25936%i==0:\n",
    "        print(i)"
   ]
  },
  {
   "cell_type": "code",
   "execution_count": 3,
   "id": "64986a98",
   "metadata": {},
   "outputs": [
    {
     "name": "stdout",
     "output_type": "stream",
     "text": [
      "105\n"
     ]
    },
    {
     "data": {
      "text/html": [
       "<div>\n",
       "<style scoped>\n",
       "    .dataframe tbody tr th:only-of-type {\n",
       "        vertical-align: middle;\n",
       "    }\n",
       "\n",
       "    .dataframe tbody tr th {\n",
       "        vertical-align: top;\n",
       "    }\n",
       "\n",
       "    .dataframe thead th {\n",
       "        text-align: right;\n",
       "    }\n",
       "</style>\n",
       "<table border=\"1\" class=\"dataframe\">\n",
       "  <thead>\n",
       "    <tr style=\"text-align: right;\">\n",
       "      <th></th>\n",
       "      <th>mean_signal</th>\n",
       "      <th>amplitude</th>\n",
       "      <th>incubation_rate</th>\n",
       "      <th>recovery_rate</th>\n",
       "      <th>import_param</th>\n",
       "      <th>sampling_proba</th>\n",
       "    </tr>\n",
       "  </thead>\n",
       "  <tbody>\n",
       "    <tr>\n",
       "      <th>0</th>\n",
       "      <td>0.036708</td>\n",
       "      <td>4.871949</td>\n",
       "      <td>0.975978</td>\n",
       "      <td>0.064719</td>\n",
       "      <td>7.991196</td>\n",
       "      <td>0.2</td>\n",
       "    </tr>\n",
       "    <tr>\n",
       "      <th>1</th>\n",
       "      <td>0.055743</td>\n",
       "      <td>2.287950</td>\n",
       "      <td>0.814976</td>\n",
       "      <td>0.072167</td>\n",
       "      <td>3.186711</td>\n",
       "      <td>0.2</td>\n",
       "    </tr>\n",
       "    <tr>\n",
       "      <th>2</th>\n",
       "      <td>0.034184</td>\n",
       "      <td>3.899711</td>\n",
       "      <td>0.412017</td>\n",
       "      <td>0.056127</td>\n",
       "      <td>9.594347</td>\n",
       "      <td>0.2</td>\n",
       "    </tr>\n",
       "    <tr>\n",
       "      <th>3</th>\n",
       "      <td>0.159451</td>\n",
       "      <td>0.516159</td>\n",
       "      <td>0.241024</td>\n",
       "      <td>0.167228</td>\n",
       "      <td>8.026138</td>\n",
       "      <td>0.2</td>\n",
       "    </tr>\n",
       "    <tr>\n",
       "      <th>4</th>\n",
       "      <td>0.087196</td>\n",
       "      <td>1.497525</td>\n",
       "      <td>0.203607</td>\n",
       "      <td>0.059843</td>\n",
       "      <td>1.369252</td>\n",
       "      <td>0.2</td>\n",
       "    </tr>\n",
       "    <tr>\n",
       "      <th>...</th>\n",
       "      <td>...</td>\n",
       "      <td>...</td>\n",
       "      <td>...</td>\n",
       "      <td>...</td>\n",
       "      <td>...</td>\n",
       "      <td>...</td>\n",
       "    </tr>\n",
       "    <tr>\n",
       "      <th>100</th>\n",
       "      <td>0.070914</td>\n",
       "      <td>0.984046</td>\n",
       "      <td>0.160007</td>\n",
       "      <td>0.049048</td>\n",
       "      <td>5.045703</td>\n",
       "      <td>0.2</td>\n",
       "    </tr>\n",
       "    <tr>\n",
       "      <th>101</th>\n",
       "      <td>0.116968</td>\n",
       "      <td>4.000495</td>\n",
       "      <td>0.064263</td>\n",
       "      <td>0.175755</td>\n",
       "      <td>7.274698</td>\n",
       "      <td>0.2</td>\n",
       "    </tr>\n",
       "    <tr>\n",
       "      <th>102</th>\n",
       "      <td>0.190802</td>\n",
       "      <td>1.362377</td>\n",
       "      <td>0.177196</td>\n",
       "      <td>0.165786</td>\n",
       "      <td>5.916234</td>\n",
       "      <td>0.2</td>\n",
       "    </tr>\n",
       "    <tr>\n",
       "      <th>103</th>\n",
       "      <td>0.299217</td>\n",
       "      <td>1.324822</td>\n",
       "      <td>0.089469</td>\n",
       "      <td>0.411572</td>\n",
       "      <td>7.985409</td>\n",
       "      <td>0.2</td>\n",
       "    </tr>\n",
       "    <tr>\n",
       "      <th>104</th>\n",
       "      <td>0.176269</td>\n",
       "      <td>0.658078</td>\n",
       "      <td>0.086712</td>\n",
       "      <td>0.164798</td>\n",
       "      <td>0.669845</td>\n",
       "      <td>0.2</td>\n",
       "    </tr>\n",
       "  </tbody>\n",
       "</table>\n",
       "<p>105 rows × 6 columns</p>\n",
       "</div>"
      ],
      "text/plain": [
       "     mean_signal  amplitude  incubation_rate  recovery_rate  import_param  \\\n",
       "0       0.036708   4.871949         0.975978       0.064719      7.991196   \n",
       "1       0.055743   2.287950         0.814976       0.072167      3.186711   \n",
       "2       0.034184   3.899711         0.412017       0.056127      9.594347   \n",
       "3       0.159451   0.516159         0.241024       0.167228      8.026138   \n",
       "4       0.087196   1.497525         0.203607       0.059843      1.369252   \n",
       "..           ...        ...              ...            ...           ...   \n",
       "100     0.070914   0.984046         0.160007       0.049048      5.045703   \n",
       "101     0.116968   4.000495         0.064263       0.175755      7.274698   \n",
       "102     0.190802   1.362377         0.177196       0.165786      5.916234   \n",
       "103     0.299217   1.324822         0.089469       0.411572      7.985409   \n",
       "104     0.176269   0.658078         0.086712       0.164798      0.669845   \n",
       "\n",
       "     sampling_proba  \n",
       "0               0.2  \n",
       "1               0.2  \n",
       "2               0.2  \n",
       "3               0.2  \n",
       "4               0.2  \n",
       "..              ...  \n",
       "100             0.2  \n",
       "101             0.2  \n",
       "102             0.2  \n",
       "103             0.2  \n",
       "104             0.2  \n",
       "\n",
       "[105 rows x 6 columns]"
      ]
     },
     "execution_count": 3,
     "metadata": {},
     "output_type": "execute_result"
    }
   ],
   "source": [
    "params = pd.read_table(path+\"test_params_TiPS.csv\", sep=\" \")\n",
    "print(len(params))\n",
    "params"
   ]
  },
  {
   "cell_type": "code",
   "execution_count": 3,
   "id": "cde98581",
   "metadata": {},
   "outputs": [],
   "source": [
    "start = time.time()\n",
    "with open(path+\"Trees_TiPS.newick\",'r') as f:\n",
    "    forest = f.readlines()\n",
    "print(\"Downloading forest took:\", time.time()-start, 's')\n",
    "print(len(forest))"
   ]
  },
  {
   "cell_type": "code",
   "execution_count": null,
   "id": "6c153e49",
   "metadata": {
    "scrolled": false
   },
   "outputs": [],
   "source": [
    "a_tree = Tree(forest[904])\n",
    "ts = TreeStyle()\n",
    "ts.show_branch_length = True\n",
    "a_tree.render(file_name=\"%%inline\", w=900,h=800, tree_style=ts)"
   ]
  },
  {
   "cell_type": "code",
   "execution_count": 11,
   "id": "b29aa1a5",
   "metadata": {},
   "outputs": [
    {
     "name": "stdout",
     "output_type": "stream",
     "text": [
      "607\n"
     ]
    }
   ],
   "source": [
    "print(len(a_tree.get_leaves()))"
   ]
  },
  {
   "cell_type": "code",
   "execution_count": 4,
   "id": "bd2d9e13",
   "metadata": {},
   "outputs": [
    {
     "data": {
      "image/png": "[encoded data removed]",
      "text/plain": [
       "<IPython.core.display.Image object>"
      ]
     },
     "execution_count": 4,
     "metadata": {},
     "output_type": "execute_result"
    }
   ],
   "source": [
    "def rescale_tree(tree, target_avg_length=1):\n",
    "    \"\"\"\n",
    "    Returns the rescaling factor and rescale the tree\n",
    "    :params str_tree: string, newick tree on which we compute the rescaling factor is computed\n",
    "    :params target_avg_length: float, the average branch length to which we want to rescale the tree\n",
    "    :returns: float, resc_factor\n",
    "    \"\"\"    \n",
    "    \n",
    "    branch_lengths = [node.dist for node in tree.traverse()]\n",
    "    resc_factor = np.mean(branch_lengths)/target_avg_length\n",
    "    \n",
    "    for node in tree.traverse():\n",
    "        node.dist /= resc_factor\n",
    "    \n",
    "    return resc_factor\n",
    "\n",
    "\n",
    "def ladderize(tre):\n",
    "    \"\"\"\n",
    "    Tree ladderization: the branch supporting the most recently sampled subtree is rotated to the left\n",
    "    :params tre: ete3 Tree, binary tree we want to ladderize\n",
    "    :return: void, modified the tree tre\n",
    "    \"\"\"\n",
    "    \n",
    "    # feature to know which subtree is the most recent\n",
    "    for node in tre.iter_descendants(\"postorder\"):\n",
    "        if node.is_leaf():\n",
    "            node.add_feature('subtree_size', node.dist)\n",
    "        else:\n",
    "            children = node.children\n",
    "            node.add_feature('subtree_size', node.dist + max(children[0].subtree_size, children[1].subtree_size))\n",
    "            \n",
    "    # swap children so that the most recent is on the left\n",
    "    for node in tre.traverse():\n",
    "\n",
    "        children = node.children #if node is leaf children==None\n",
    "        if children:\n",
    "            if children[0].subtree_size < children[1].subtree_size:\n",
    "                node.swap_children()\n",
    "                \n",
    "    \n",
    "            children[0].del_feature(\"subtree_size\")\n",
    "            children[1].del_feature(\"subtree_size\")\n",
    "            \n",
    "            \n",
    "def inorder_traverse(node, previous_node, root, vect_lf=[], vect_in=[]):\n",
    "    \"\"\"\n",
    "    Tree traversal (standart recursive algorithm from the depth first family) and encoding\n",
    "    Inorder tree walk (binary search tree)\n",
    "    :param node: \n",
    "    :param previous_node:\n",
    "    :param root:\n",
    "    :param vect_lf:\n",
    "    :param vect_in:\n",
    "    :return: \n",
    "    \"\"\"\n",
    "\n",
    "    if node.is_root():\n",
    "        node.add_feature('dist_to_root', 0)\n",
    "        previous_depth = 0\n",
    "    else:\n",
    "        previous_depth = node.up.dist_to_root\n",
    "\n",
    "    \n",
    "    if not node.is_leaf(): # node has always 2 children, provided that it is not a leaf\n",
    "        node.add_feature('dist_to_root', node.dist + previous_depth)\n",
    "        \n",
    "        inorder_traverse(node.children[0], previous_node, root, vect_lf=vect_lf, vect_in=vect_in)\n",
    "        \n",
    "        #for internal node, we add its distance to the root\n",
    "        vect_in.append(node.dist_to_root)\n",
    "        \n",
    "        previous_node = node\n",
    "        inorder_traverse(node.children[1], previous_node, root, vect_lf=vect_lf, vect_in=vect_in)\n",
    "        \n",
    "    else:\n",
    "        #for tips, we add its distance to the previously visited node\n",
    "        vect_lf.append(node.dist+previous_depth - previous_node.dist_to_root)\n",
    "\n",
    "            \n",
    "    return vect_lf, vect_in\n",
    "\n",
    "\n",
    "def to_CBLV(tre, maxSize, sampling_p):\n",
    "    \"\"\"\n",
    "    :param tree: ete3 tree, tree that we want to vectorize\n",
    "    :param maxSize: int, dimension of the vector/NN input\n",
    "    :return:\n",
    "    \"\"\"\n",
    "\n",
    "    # Tree ladderization\n",
    "    ladderize(tre)\n",
    "    #print(tre.get_ascii(\"name\"))\n",
    "    # Get \n",
    "    # Encoding\n",
    "    vect_lf, vect_in = inorder_traverse(tre, tre, tre, vect_lf=[], vect_in=[])\n",
    "    \n",
    "    # Zero-completion\n",
    "    tree_vect = np.zeros((2, maxSize))\n",
    "    tree_vect[0, :len(vect_lf)] = vect_lf\n",
    "    tree_vect[1, :len(vect_in)] = vect_in\n",
    "    \n",
    "    tree_vect[:, -1] = [sampling_p]*2\n",
    "    \n",
    "    return tree_vect\n",
    "\n",
    "# Check algorithm\n",
    "test_tree = Tree(\"(a:3,((b:2, c)C:2, (d, e:4)D)B)A;\", format=1)\n",
    "ts = TreeStyle()\n",
    "ts.show_branch_length = True\n",
    "test_tree.render(file_name=\"%%inline\", w=300,tree_style=ts)"
   ]
  },
  {
   "cell_type": "code",
   "execution_count": 13,
   "id": "16832708",
   "metadata": {},
   "outputs": [
    {
     "data": {
      "image/png": "[encoded data removed]",
      "text/plain": [
       "<IPython.core.display.Image object>"
      ]
     },
     "execution_count": 13,
     "metadata": {},
     "output_type": "execute_result"
    }
   ],
   "source": [
    "ladderize(test_tree)\n",
    "test_tree.render(file_name=\"%%inline\", w=300,tree_style=ts)"
   ]
  },
  {
   "cell_type": "code",
   "execution_count": 14,
   "id": "4cf9deb4",
   "metadata": {},
   "outputs": [
    {
     "data": {
      "text/plain": [
       "array([[6. , 1. , 4. , 1. , 3. , 0. , 0. , 0.2],\n",
       "       [2. , 1. , 3. , 0. , 0. , 0. , 0. , 0.2]])"
      ]
     },
     "execution_count": 14,
     "metadata": {},
     "output_type": "execute_result"
    }
   ],
   "source": [
    "to_CBLV(test_tree, 8, 0.2)"
   ]
  },
  {
   "attachments": {
    "image-6.png": {
     "image/png": "[encoded data removed]"
    }
   },
   "cell_type": "markdown",
   "id": "47784496",
   "metadata": {},
   "source": [
    "The corresponding Compact Bijective Ladderized Vector is:\n",
    "![image-6.png](attachment:image-6.png)"
   ]
  },
  {
   "cell_type": "code",
   "execution_count": 7,
   "id": "d90f890b",
   "metadata": {},
   "outputs": [
    {
     "name": "stdout",
     "output_type": "stream",
     "text": [
      "Conversion of 105 took 0.03710889021555583 min\n"
     ]
    }
   ],
   "source": [
    "def transform_raw_data(param_file=path+\"params_TiPS.csv\", trees_file=path+\"Trees_TiPS.newick\",\n",
    "                       vectors_file=path+\"CBLV_TiPS.npy\", new_params_file=path+\"scaled_params_TiPS.csv\",\n",
    "                       factors_file=path+\"factors_TiPS.npy\", maxSize=MAX_SIZE):\n",
    "    \"\"\"\n",
    "    Remove label that leads to no tree \n",
    "    Rescale time dependent parameters in design\n",
    "    Rescale tree in forest and turn each tree into his CBLV REPRESENTATION\n",
    "    \"\"\"\n",
    "    \n",
    "    #Load files\n",
    "    params = pd.read_table(param_file, sep=\" \")\n",
    "    with open(trees_file,'r') as f:\n",
    "        forest = f.readlines()\n",
    "\n",
    "    params_to_scale = ['mean_signal', 'incubation_rate', 'recovery_rate'] #bêta, gamma et sigma dependent du temps\n",
    "    data_vect = []\n",
    "    resc_fact_data = []\n",
    "    nb = len(forest)\n",
    "    \n",
    "    for i in range(nb):\n",
    "\n",
    "        tree = Tree(forest[i])\n",
    "        resc_fact = rescale_tree(tree) # tree is rescaled\n",
    "        resc_fact_data.append(resc_fact) \n",
    "\n",
    "        params.loc[i][params_to_scale] *= resc_fact #some corresponding parameters are rescaled\n",
    "\n",
    "        # stock CBLV representation\n",
    "        data_vect.append(to_CBLV(tree, maxSize, params.loc[i]['sampling_proba']))\n",
    "\n",
    "    # save features and labels        \n",
    "    np.save(vectors_file, np.array(data_vect))\n",
    "    params.to_csv(new_params_file, index=False)\n",
    "    # save rescale factors\n",
    "    np.save(factors_file, np.array(resc_fact_data))\n",
    "\n",
    "    return np.array(data_vect), np.array(resc_fact_data), params\n",
    "\n",
    "\n",
    "\n",
    "st = time.time()\n",
    "vect, fact, param = transform_raw_data(param_file=path+\"test_params_TiPS.csv\", trees_file=path+\"test_Trees_TiPS.newick\", \n",
    "                                       vectors_file=path+\"test_CBLV.npy\", new_params_file=path+\"test_scaled_params.csv\",factors_file=path+\"test_factors.npy\")\n",
    "print('Conversion of', len(params), 'took', (time.time()-st)/60, 'min')\n",
    "# %snakeviz transform_raw_data()"
   ]
  },
  {
   "cell_type": "code",
   "execution_count": 8,
   "id": "b62a2759",
   "metadata": {},
   "outputs": [
    {
     "name": "stdout",
     "output_type": "stream",
     "text": [
      "CBLV: (105, 2, 901)\n",
      "factors: (105,)\n",
      "params (105, 6)\n"
     ]
    }
   ],
   "source": [
    "print('CBLV:',vect.shape)\n",
    "print('factors:', fact.shape)\n",
    "print('params', params.shape)"
   ]
  },
  {
   "cell_type": "code",
   "execution_count": 7,
   "id": "2ebd1dd7",
   "metadata": {},
   "outputs": [
    {
     "data": {
      "text/plain": [
       "20.59333333333333"
      ]
     },
     "execution_count": 7,
     "metadata": {},
     "output_type": "execute_result"
    }
   ],
   "source": [
    "1235.6/60"
   ]
  }
 ],
 "metadata": {
  "kernelspec": {
   "display_name": "Python 3 (ipykernel)",
   "language": "python",
   "name": "python3"
  },
  "language_info": {
   "codemirror_mode": {
    "name": "ipython",
    "version": 3
   },
   "file_extension": ".py",
   "mimetype": "text/x-python",
   "name": "python",
   "nbconvert_exporter": "python",
   "pygments_lexer": "ipython3",
   "version": "3.9.13"
  }
 },
 "nbformat": 4,
 "nbformat_minor": 5
}
